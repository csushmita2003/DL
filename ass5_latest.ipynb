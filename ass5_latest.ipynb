{
 "cells": [
  {
   "cell_type": "code",
   "execution_count": 1,
   "metadata": {},
   "outputs": [
    {
     "name": "stdout",
     "output_type": "stream",
     "text": [
      "Requirement already satisfied: gensim in c:\\python310\\lib\\site-packages (4.3.3)\n",
      "Requirement already satisfied: numpy<2.0,>=1.18.5 in c:\\python310\\lib\\site-packages (from gensim) (1.24.2)\n",
      "Requirement already satisfied: scipy<1.14.0,>=1.7.0 in c:\\python310\\lib\\site-packages (from gensim) (1.11.3)\n",
      "Requirement already satisfied: smart-open>=1.8.1 in c:\\python310\\lib\\site-packages (from gensim) (7.0.5)\n",
      "Requirement already satisfied: wrapt in c:\\python310\\lib\\site-packages (from smart-open>=1.8.1->gensim) (1.16.0)\n",
      "Note: you may need to restart the kernel to use updated packages.\n"
     ]
    },
    {
     "name": "stderr",
     "output_type": "stream",
     "text": [
      "\n",
      "[notice] A new release of pip is available: 24.2 -> 24.3.1\n",
      "[notice] To update, run: python.exe -m pip install --upgrade pip\n"
     ]
    }
   ],
   "source": [
    "pip install gensim"
   ]
  },
  {
   "cell_type": "code",
   "execution_count": 2,
   "metadata": {},
   "outputs": [
    {
     "name": "stdout",
     "output_type": "stream",
     "text": [
      "Requirement already satisfied: nltk in c:\\python310\\lib\\site-packages (3.9.1)\n",
      "Requirement already satisfied: click in c:\\python310\\lib\\site-packages (from nltk) (8.1.7)\n",
      "Requirement already satisfied: joblib in c:\\python310\\lib\\site-packages (from nltk) (1.3.2)\n",
      "Requirement already satisfied: regex>=2021.8.3 in c:\\python310\\lib\\site-packages (from nltk) (2024.9.11)\n",
      "Requirement already satisfied: tqdm in c:\\python310\\lib\\site-packages (from nltk) (4.66.5)\n",
      "Requirement already satisfied: colorama in c:\\python310\\lib\\site-packages (from click->nltk) (0.4.6)\n",
      "Note: you may need to restart the kernel to use updated packages.\n"
     ]
    },
    {
     "name": "stderr",
     "output_type": "stream",
     "text": [
      "\n",
      "[notice] A new release of pip is available: 24.2 -> 24.3.1\n",
      "[notice] To update, run: python.exe -m pip install --upgrade pip\n"
     ]
    }
   ],
   "source": [
    "pip install nltk"
   ]
  },
  {
   "cell_type": "code",
   "execution_count": 6,
   "metadata": {
    "colab": {
     "base_uri": "https://localhost:8080/"
    },
    "executionInfo": {
     "elapsed": 3709,
     "status": "ok",
     "timestamp": 1700375915797,
     "user": {
      "displayName": "Harish Bapat",
      "userId": "01261412703411895454"
     },
     "user_tz": -330
    },
    "id": "Il4OWhgbHbJz",
    "outputId": "062cd898-50f6-469f-bfd9-3864cc5c3f5c"
   },
   "outputs": [
    {
     "name": "stdout",
     "output_type": "stream",
     "text": [
      "Predicted word: [('love', 0.25000066)]\n"
     ]
    },
    {
     "name": "stderr",
     "output_type": "stream",
     "text": [
      "[nltk_data] Downloading package punkt_tab to\n",
      "[nltk_data]     C:\\Users\\sushm\\AppData\\Roaming\\nltk_data...\n",
      "[nltk_data]   Package punkt_tab is already up-to-date!\n",
      "[nltk_data] Downloading package punkt to\n",
      "[nltk_data]     C:\\Users\\sushm\\AppData\\Roaming\\nltk_data...\n",
      "[nltk_data]   Package punkt is already up-to-date!\n",
      "[nltk_data] Downloading package stopwords to\n",
      "[nltk_data]     C:\\Users\\sushm\\AppData\\Roaming\\nltk_data...\n",
      "[nltk_data]   Package stopwords is already up-to-date!\n"
     ]
    }
   ],
   "source": [
    "from gensim.models import Word2Vec\n",
    "from nltk.tokenize import word_tokenize\n",
    "from nltk.corpus import stopwords\n",
    "import string\n",
    "import nltk\n",
    "nltk.download('punkt_tab')\n",
    "\n",
    "nltk.download('punkt')\n",
    "nltk.download('stopwords')\n",
    "import warnings\n",
    "warnings.filterwarnings(\"ignore\")\n",
    "\n",
    "\n",
    "def preprocess_text(text):\n",
    "    # Tokenize the text into words\n",
    "    tokens = word_tokenize(text.lower())\n",
    "\n",
    "    # Remove stopwords and punctuation\n",
    "    stop_words = set(stopwords.words('english'))\n",
    "    tokens = [word for word in tokens if word.isalpha() and word not in stop_words and word not in string.punctuation]\n",
    "\n",
    "    return tokens\n",
    "\n",
    "# Sample text for training the CBOW model\n",
    "text = \"Hi my name is Harish.I love to read.I love to sing.Thats all folks\"\n",
    "\n",
    "# Preprocess the text\n",
    "tokens = preprocess_text(text)\n",
    "\n",
    "# Create training data with context and target word\n",
    "training_data = []\n",
    "context_size = 2  # Adjust the context size as needed\n",
    "\n",
    "for i in range(context_size, len(tokens) - context_size):\n",
    "    context = tokens[i - context_size : i] + tokens[i + 1 : i + 1 + context_size]\n",
    "    target = tokens[i]\n",
    "    training_data.append(context + [target])  # Combine context and target into a single list\n",
    "\n",
    "# Define the CBOW model using Word2Vec\n",
    "model_cbow = Word2Vec(sentences=training_data, vector_size=500, window=context_size, sg=0, min_count=1, workers=4)\n",
    "\n",
    "# Training the CBOW model\n",
    "model_cbow.train(training_data, total_examples=len(training_data), epochs=20)\n",
    "\n",
    "# Given two previous and two latter words, predict the target word\n",
    "previous_words = [\"name\", \"Harish\"]\n",
    "latter_words = [\"sing\", \"folks\"]\n",
    "\n",
    "# Use the predict_output_word function from gensim.models.word2vec module\n",
    "predicted_word = model_cbow.predict_output_word(previous_words + latter_words, topn=1)\n",
    "\n",
    "print(f\"Predicted word: {predicted_word}\")\n",
    "\n"
   ]
  },
  {
   "cell_type": "code",
   "execution_count": null,
   "metadata": {
    "colab": {
     "base_uri": "https://localhost:8080/"
    },
    "executionInfo": {
     "elapsed": 549,
     "status": "ok",
     "timestamp": 1700296496980,
     "user": {
      "displayName": "Harish Bapat",
      "userId": "01261412703411895454"
     },
     "user_tz": -330
    },
    "id": "MJ8u2oURHde5",
    "outputId": "f6f8ce85-6f6a-48f6-9480-4af74ef36edb"
   },
   "outputs": [],
   "source": [
    "similar_words = model_cbow.wv.most_similar(predicted_word, topn=5)\n",
    "\n",
    "print(f\"Words most similar to '{predicted_word}':\")\n",
    "for word, similarity in similar_words:\n",
    "    print(f\"{word}: {similarity}\")"
   ]
  },
  {
   "cell_type": "code",
   "execution_count": null,
   "metadata": {
    "colab": {
     "base_uri": "https://localhost:8080/"
    },
    "executionInfo": {
     "elapsed": 390,
     "status": "ok",
     "timestamp": 1700282105226,
     "user": {
      "displayName": "Harish Bapat",
      "userId": "01261412703411895454"
     },
     "user_tz": -330
    },
    "id": "d1cmIhS9H80x",
    "outputId": "2e9e78d3-1b2f-458d-c472-bbb04d1453a5"
   },
   "outputs": [],
   "source": [
    "tokens\n"
   ]
  },
  {
   "cell_type": "code",
   "execution_count": null,
   "metadata": {},
   "outputs": [],
   "source": []
  }
 ],
 "metadata": {
  "colab": {
   "provenance": []
  },
  "kernelspec": {
   "display_name": "Python 3 (ipykernel)",
   "language": "python",
   "name": "python3"
  },
  "language_info": {
   "codemirror_mode": {
    "name": "ipython",
    "version": 3
   },
   "file_extension": ".py",
   "mimetype": "text/x-python",
   "name": "python",
   "nbconvert_exporter": "python",
   "pygments_lexer": "ipython3",
   "version": "3.10.4"
  }
 },
 "nbformat": 4,
 "nbformat_minor": 4
}
